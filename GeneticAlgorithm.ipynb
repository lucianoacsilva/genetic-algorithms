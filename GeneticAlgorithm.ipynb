{
 "cells": [
  {
   "cell_type": "markdown",
   "metadata": {},
   "source": [
    "Import modules."
   ]
  },
  {
   "cell_type": "code",
   "execution_count": 111,
   "metadata": {},
   "outputs": [],
   "source": [
    "import numpy as np\n",
    "import matplotlib.pyplot as plt\n"
   ]
  },
  {
   "cell_type": "markdown",
   "metadata": {},
   "source": [
    "Define Sphere optimization function."
   ]
  },
  {
   "cell_type": "code",
   "execution_count": 112,
   "metadata": {},
   "outputs": [],
   "source": [
    "def sphere(x):\n",
    "    return sum(x**2)"
   ]
  },
  {
   "cell_type": "markdown",
   "metadata": {},
   "source": [
    "Problem definition."
   ]
  },
  {
   "cell_type": "code",
   "execution_count": 124,
   "metadata": {},
   "outputs": [],
   "source": [
    "problem = {}\n",
    "problem[\"costfunc\"] = sphere\n",
    "problem[\"nvar\"] = 5\n",
    "problem[\"varmin\"] = -10\n",
    "problem[\"varmax\"] = 10"
   ]
  },
  {
   "cell_type": "markdown",
   "metadata": {},
   "source": [
    "GA parameters."
   ]
  },
  {
   "cell_type": "code",
   "execution_count": 103,
   "metadata": {},
   "outputs": [],
   "source": [
    "params = {}\n",
    "params[\"maxit\"] = 100\n",
    "params[\"npop\"] = 20\n",
    "params[\"pc\"] = 1\n",
    "params[\"gamma\"] = 0.1\n",
    "params[\"mu\"] = 0.2\n",
    "params[\"sigma\"] = 0.1\n",
    "params[\"beta\"] = 1"
   ]
  },
  {
   "cell_type": "markdown",
   "metadata": {},
   "source": [
    "Definition of crossover function."
   ]
  },
  {
   "cell_type": "code",
   "execution_count": 104,
   "metadata": {},
   "outputs": [],
   "source": [
    "def crossover(p1, p2, gamma = 0.1):\n",
    "    c1 = dict.copy(p1)\n",
    "    c2 = dict.copy(p2)\n",
    "    \n",
    "    alpha = np.random.uniform(-gamma, 1 + gamma, *c1[\"position\"].shape)\n",
    "    c1[\"position\"] = alpha * p1[\"position\"] + (1 - alpha) * p2[\"position\"]\n",
    "    c2[\"position\"] = alpha * p2[\"position\"] + (1 - alpha) * p1[\"position\"]\n",
    "    \n",
    "    return c1, c2"
   ]
  },
  {
   "cell_type": "markdown",
   "metadata": {},
   "source": [
    "Define mutation function."
   ]
  },
  {
   "cell_type": "code",
   "execution_count": 105,
   "metadata": {},
   "outputs": [],
   "source": [
    "def mutate(x, mutationRate, sigma):\n",
    "    y = dict.copy(x)\n",
    "    flag = (np.random.rand(*x[\"position\"].shape) <= mutationRate)\n",
    "    ind = np.argwhere(flag)\n",
    "    y[\"position\"][ind] += sigma * np.random.rand(*ind.shape)\n",
    "    \n",
    "    return y"
   ]
  },
  {
   "cell_type": "markdown",
   "metadata": {},
   "source": [
    "Apply bounds to features."
   ]
  },
  {
   "cell_type": "code",
   "execution_count": 106,
   "metadata": {},
   "outputs": [],
   "source": [
    "def applyBounds(x, varmin, varmax):\n",
    "    x[\"position\"] = np.maximum(x[\"position\"], varmin)\n",
    "    x[\"position\"] = np.minimum(x[\"position\"], varmax)"
   ]
  },
  {
   "cell_type": "markdown",
   "metadata": {},
   "source": [
    "Roulete wheel selection."
   ]
  },
  {
   "cell_type": "code",
   "execution_count": 107,
   "metadata": {},
   "outputs": [],
   "source": [
    "def rouletteWheelSelection(p):\n",
    "    c = np.cumsum(p)\n",
    "    r = sum(p) * np.random.rand()\n",
    "    ind = np.argwhere(r <= c)\n",
    "    \n",
    "    return ind[0][0]"
   ]
  },
  {
   "cell_type": "markdown",
   "metadata": {},
   "source": [
    "GA algorithm."
   ]
  },
  {
   "cell_type": "code",
   "execution_count": 127,
   "metadata": {},
   "outputs": [],
   "source": [
    "def run(problem, params):\n",
    "    \n",
    "    # Problem information here\n",
    "    costFunction = problem[\"costfunc\"]\n",
    "    nvar = problem[\"nvar\"]\n",
    "    varmin = problem[\"varmin\"]\n",
    "    varmax = problem[\"varmax\"]\n",
    "    \n",
    "    # Parameters\n",
    "    maxit = params[\"maxit\"]\n",
    "    npop = params[\"npop\"]\n",
    "    pc = params[\"pc\"]\n",
    "    gamma = params[\"gamma\"]\n",
    "    nc = np.round(pc * npop / 2) * 2\n",
    "    mu = params[\"mu\"]\n",
    "    sigma = params[\"sigma\"]\n",
    "    beta = params[\"beta\"]\n",
    "    \n",
    "    \n",
    "    # Best solution\n",
    "    bestSolution = {\n",
    "        \"position\": None,\n",
    "        \"cost\": np.inf\n",
    "    }\n",
    "    \n",
    "    # Initialize population\n",
    "    pop = []\n",
    "    for i in range(npop):\n",
    "        # Empty Individual Template\n",
    "        empty_individual = {}\n",
    "\n",
    "        empty_individual[\"position\"] = None\n",
    "        empty_individual[\"cost\"] = None\n",
    "        \n",
    "        pop.append(empty_individual)\n",
    "\n",
    "    for ind in pop:\n",
    "        ind[\"position\"] = np.random.uniform(varmin, varmax, nvar)\n",
    "        ind[\"cost\"] = costFunction(ind[\"position\"])\n",
    "        \n",
    "        if ind[\"cost\"] < bestSolution[\"cost\"]:\n",
    "            bestSolution = dict.copy(ind)\n",
    "            \n",
    "    # Best cost of interations\n",
    "    betsCost = np.empty(maxit)\n",
    "    \n",
    "    # Array of best costs\n",
    "    bestcost = []\n",
    "    \n",
    "    # Main loop\n",
    "    for it in range(maxit):\n",
    "        costs = np.array([x[\"cost\"] for x in pop])\n",
    "        avgCost = np.mean(costs)\n",
    "        \n",
    "        if (avgCost != 0):\n",
    "            costs = costs/avgCost\n",
    "            \n",
    "        probs = np.exp(-beta * costs)\n",
    "        popc = []\n",
    "        \n",
    "        for k in range(int(nc//2)):\n",
    "            # Select parents\n",
    "            q = np.random.permutation(npop)\n",
    "            \n",
    "            p1 = pop[q[0]]\n",
    "            p2 = pop[q[1]]\n",
    "            \n",
    "            # Roulete Wheel selection\n",
    "            p1 = pop[rouletteWheelSelection(probs)]\n",
    "            p2 = pop[rouletteWheelSelection(probs)]\n",
    "            \n",
    "            # Perform crossover\n",
    "            c1, c2 = crossover(p1, p2, gamma)\n",
    "            \n",
    "            # Perform mutation\n",
    "            c1 = mutate(c1, mu, sigma)\n",
    "            c2 = mutate(c2, mu, sigma)\n",
    "            \n",
    "            # Apply bounds\n",
    "            applyBounds(c1, varmin, varmax)\n",
    "            applyBounds(c2, varmin, varmax)\n",
    "            \n",
    "            # Evaluate first offspring\n",
    "            c1[\"cost\"] = costFunction(c1[\"position\"])\n",
    "            \n",
    "            if(c1[\"cost\"] < bestSolution[\"cost\"]):\n",
    "                bestSolution = dict.copy(c1)\n",
    "                \n",
    "            # Evaluate first offspring\n",
    "            c2[\"cost\"] = costFunction(c2[\"position\"])\n",
    "            \n",
    "            if(c2[\"cost\"] < bestSolution[\"cost\"]):\n",
    "                bestSolution = dict.copy(c2)\n",
    "                \n",
    "            # Add offsprings to popc\n",
    "            popc.append(c1)\n",
    "            popc.append(c2)\n",
    "            \n",
    "        # Merge, sort and select\n",
    "        pop += popc\n",
    "        pop = sorted(pop, key = lambda x: x[\"cost\"])\n",
    "        pop = pop[0:npop]\n",
    "\n",
    "        # Store best cost\n",
    "        bestcost.append(bestSolution[\"cost\"])\n",
    "\n",
    "        # Show iteration information\n",
    "        print(\"Iteration {}: Best Cost = {}\".format(it, bestSolution[\"cost\"]))\n",
    "            \n",
    "    out = {}\n",
    "    out[\"pop\"] = pop\n",
    "    out[\"bestsol\"] = bestSolution\n",
    "    out[\"bestcost\"] = bestcost\n",
    "\n",
    "    return out  "
   ]
  },
  {
   "cell_type": "markdown",
   "metadata": {},
   "source": [
    "Run GA."
   ]
  },
  {
   "cell_type": "code",
   "execution_count": 128,
   "metadata": {},
   "outputs": [
    {
     "name": "stdout",
     "output_type": "stream",
     "text": [
      "Iteration 0: Best Cost = 43.96380638590959\n",
      "Iteration 1: Best Cost = 20.60785396223472\n",
      "Iteration 2: Best Cost = 12.494781196713085\n",
      "Iteration 3: Best Cost = 5.90918713601058\n",
      "Iteration 4: Best Cost = 5.809417710939544\n",
      "Iteration 5: Best Cost = 3.616374527141649\n",
      "Iteration 6: Best Cost = 3.616374527141649\n",
      "Iteration 7: Best Cost = 1.3633716011692445\n",
      "Iteration 8: Best Cost = 0.5230199062372747\n",
      "Iteration 9: Best Cost = 0.4385857655011178\n",
      "Iteration 10: Best Cost = 0.2747194578091393\n",
      "Iteration 11: Best Cost = 0.24739377083802516\n",
      "Iteration 12: Best Cost = 0.19775141459036422\n",
      "Iteration 13: Best Cost = 0.16134031070143118\n",
      "Iteration 14: Best Cost = 0.12575664349939597\n",
      "Iteration 15: Best Cost = 0.06377712503260374\n",
      "Iteration 16: Best Cost = 0.06377712503260374\n",
      "Iteration 17: Best Cost = 0.06377712503260374\n",
      "Iteration 18: Best Cost = 0.05834911617459832\n",
      "Iteration 19: Best Cost = 0.05308239756450354\n",
      "Iteration 20: Best Cost = 0.03260819275175779\n",
      "Iteration 21: Best Cost = 0.02988962667316699\n",
      "Iteration 22: Best Cost = 0.020164649886138964\n",
      "Iteration 23: Best Cost = 0.018425528592970208\n",
      "Iteration 24: Best Cost = 0.01377731737922753\n",
      "Iteration 25: Best Cost = 0.01377731737922753\n",
      "Iteration 26: Best Cost = 0.01377731737922753\n",
      "Iteration 27: Best Cost = 0.012307684225798076\n",
      "Iteration 28: Best Cost = 0.012307684225798076\n",
      "Iteration 29: Best Cost = 0.011588173990115918\n",
      "Iteration 30: Best Cost = 0.011588173990115918\n",
      "Iteration 31: Best Cost = 0.011588173990115918\n",
      "Iteration 32: Best Cost = 0.011588173990115918\n",
      "Iteration 33: Best Cost = 0.011327861412458146\n",
      "Iteration 34: Best Cost = 0.01104248375028112\n",
      "Iteration 35: Best Cost = 0.01104248375028112\n",
      "Iteration 36: Best Cost = 0.01104248375028112\n",
      "Iteration 37: Best Cost = 0.010596001344903946\n",
      "Iteration 38: Best Cost = 0.010596001344903946\n",
      "Iteration 39: Best Cost = 0.010596001344903946\n",
      "Iteration 40: Best Cost = 0.010596001344903946\n",
      "Iteration 41: Best Cost = 0.010596001344903946\n",
      "Iteration 42: Best Cost = 0.010596001344903946\n",
      "Iteration 43: Best Cost = 0.010596001344903946\n",
      "Iteration 44: Best Cost = 0.010576574598096014\n",
      "Iteration 45: Best Cost = 0.010576574598096014\n",
      "Iteration 46: Best Cost = 0.010576574598096014\n",
      "Iteration 47: Best Cost = 0.010576574598096014\n",
      "Iteration 48: Best Cost = 0.010576574598096014\n",
      "Iteration 49: Best Cost = 0.01055848779481372\n",
      "Iteration 50: Best Cost = 0.010557220001659762\n",
      "Iteration 51: Best Cost = 0.010557220001659762\n",
      "Iteration 52: Best Cost = 0.010548604955866743\n",
      "Iteration 53: Best Cost = 0.010548604955866743\n",
      "Iteration 54: Best Cost = 0.010548604955866743\n",
      "Iteration 55: Best Cost = 0.010548007524857125\n",
      "Iteration 56: Best Cost = 0.010545929776502051\n",
      "Iteration 57: Best Cost = 0.010545323075698325\n",
      "Iteration 58: Best Cost = 0.010545323075698325\n",
      "Iteration 59: Best Cost = 0.010545323075698325\n",
      "Iteration 60: Best Cost = 0.010545323075698325\n",
      "Iteration 61: Best Cost = 0.010545323075698325\n",
      "Iteration 62: Best Cost = 0.010545323075698325\n",
      "Iteration 63: Best Cost = 0.010543910900370079\n",
      "Iteration 64: Best Cost = 0.010543910900370079\n",
      "Iteration 65: Best Cost = 0.010538741483969487\n",
      "Iteration 66: Best Cost = 0.010534454843449129\n",
      "Iteration 67: Best Cost = 0.010534454843449129\n",
      "Iteration 68: Best Cost = 0.010534454843449129\n",
      "Iteration 69: Best Cost = 0.010534454843449129\n",
      "Iteration 70: Best Cost = 0.010534454843449129\n",
      "Iteration 71: Best Cost = 0.010534454843449129\n",
      "Iteration 72: Best Cost = 0.010534454843449129\n",
      "Iteration 73: Best Cost = 0.010534454843449129\n",
      "Iteration 74: Best Cost = 0.010534454843449129\n",
      "Iteration 75: Best Cost = 0.010534454843449129\n",
      "Iteration 76: Best Cost = 0.010534454843449129\n",
      "Iteration 77: Best Cost = 0.010534454843449129\n",
      "Iteration 78: Best Cost = 0.010534454843449129\n",
      "Iteration 79: Best Cost = 0.010534454843449129\n",
      "Iteration 80: Best Cost = 0.010534454843449129\n",
      "Iteration 81: Best Cost = 0.010534454843449129\n",
      "Iteration 82: Best Cost = 0.010534454843449129\n",
      "Iteration 83: Best Cost = 0.010534454843449129\n",
      "Iteration 84: Best Cost = 0.010534393461975997\n",
      "Iteration 85: Best Cost = 0.010534393461975997\n",
      "Iteration 86: Best Cost = 0.010534393461975997\n",
      "Iteration 87: Best Cost = 0.010534354061885503\n",
      "Iteration 88: Best Cost = 0.010534354061885503\n",
      "Iteration 89: Best Cost = 0.010534319667996164\n",
      "Iteration 90: Best Cost = 0.010534297617575203\n",
      "Iteration 91: Best Cost = 0.010534297617575203\n",
      "Iteration 92: Best Cost = 0.010534265772453148\n",
      "Iteration 93: Best Cost = 0.010534265772453148\n",
      "Iteration 94: Best Cost = 0.010534265772453148\n",
      "Iteration 95: Best Cost = 0.01053412422695065\n",
      "Iteration 96: Best Cost = 0.010534097429424502\n",
      "Iteration 97: Best Cost = 0.0105338588813206\n",
      "Iteration 98: Best Cost = 0.0105338588813206\n",
      "Iteration 99: Best Cost = 0.0105338588813206\n"
     ]
    }
   ],
   "source": [
    "out = run(problem, params)"
   ]
  },
  {
   "cell_type": "markdown",
   "metadata": {},
   "source": [
    "Results."
   ]
  },
  {
   "cell_type": "code",
   "execution_count": 129,
   "metadata": {},
   "outputs": [
    {
     "data": {
      "image/png": "[encoded data removed]",
      "text/plain": [
       "<Figure size 432x288 with 1 Axes>"
      ]
     },
     "metadata": {
      "needs_background": "light"
     },
     "output_type": "display_data"
    }
   ],
   "source": [
    "plt.semilogy(out[\"bestcost\"])\n",
    "plt.xlim(0, params[\"maxit\"])\n",
    "plt.xlabel(\"Iteration\")\n",
    "plt.ylabel(\"Best costs per iteration\")\n",
    "plt.title(\"Genetic Algorithm example\")\n",
    "plt.grid(True)"
   ]
  },
  {
   "cell_type": "code",
   "execution_count": null,
   "metadata": {},
   "outputs": [],
   "source": []
  }
 ],
 "metadata": {
  "kernelspec": {
   "display_name": "Python 3",
   "language": "python",
   "name": "python3"
  },
  "language_info": {
   "codemirror_mode": {
    "name": "ipython",
    "version": 3
   },
   "file_extension": ".py",
   "mimetype": "text/x-python",
   "name": "python",
   "nbconvert_exporter": "python",
   "pygments_lexer": "ipython3",
   "version": "3.8.6"
  }
 },
 "nbformat": 4,
 "nbformat_minor": 4
}
